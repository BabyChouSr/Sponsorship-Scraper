{
 "cells": [
  {
   "cell_type": "markdown",
   "metadata": {},
   "source": [
    "## Install the necessary packages"
   ]
  },
  {
   "cell_type": "code",
   "execution_count": 1,
   "metadata": {},
   "outputs": [
    {
     "name": "stdout",
     "output_type": "stream",
     "text": [
      "Requirement already satisfied: email_permutations in /Users/chrischou/opt/anaconda3/lib/python3.8/site-packages (0.6.0)\n",
      "Requirement already satisfied: tldextract in /Users/chrischou/opt/anaconda3/lib/python3.8/site-packages (3.3.1)\n",
      "Requirement already satisfied: requests-file>=1.4 in /Users/chrischou/opt/anaconda3/lib/python3.8/site-packages (from tldextract) (1.5.1)\n",
      "Requirement already satisfied: idna in /Users/chrischou/opt/anaconda3/lib/python3.8/site-packages (from tldextract) (2.10)\n",
      "Requirement already satisfied: filelock>=3.0.8 in /Users/chrischou/opt/anaconda3/lib/python3.8/site-packages (from tldextract) (3.0.12)\n",
      "Requirement already satisfied: requests>=2.1.0 in /Users/chrischou/opt/anaconda3/lib/python3.8/site-packages (from tldextract) (2.25.1)\n",
      "Requirement already satisfied: chardet<5,>=3.0.2 in /Users/chrischou/opt/anaconda3/lib/python3.8/site-packages (from requests>=2.1.0->tldextract) (4.0.0)\n",
      "Requirement already satisfied: urllib3<1.27,>=1.21.1 in /Users/chrischou/opt/anaconda3/lib/python3.8/site-packages (from requests>=2.1.0->tldextract) (1.26.4)\n",
      "Requirement already satisfied: certifi>=2017.4.17 in /Users/chrischou/opt/anaconda3/lib/python3.8/site-packages (from requests>=2.1.0->tldextract) (2020.12.5)\n",
      "Requirement already satisfied: six in /Users/chrischou/opt/anaconda3/lib/python3.8/site-packages (from requests-file>=1.4->tldextract) (1.15.0)\n"
     ]
    }
   ],
   "source": [
    "# ALERT: ends up this package produces WAY too many emails - FRONT only allows 100 emails per day\n",
    "!pip install email_permutations\n",
    "\n",
    "# Let's try with tldextract to take website links into host name\n",
    "!pip install tldextract"
   ]
  },
  {
   "cell_type": "code",
   "execution_count": 2,
   "metadata": {},
   "outputs": [],
   "source": [
    "import pandas as pd"
   ]
  },
  {
   "cell_type": "code",
   "execution_count": 3,
   "metadata": {},
   "outputs": [],
   "source": [
    "from tldextract import extract"
   ]
  },
  {
   "cell_type": "code",
   "execution_count": 8,
   "metadata": {},
   "outputs": [],
   "source": [
    "df = pd.read_csv('LinkedinScraper/recruiters.csv')"
   ]
  },
  {
   "cell_type": "code",
   "execution_count": 9,
   "metadata": {},
   "outputs": [
    {
     "data": {
      "text/html": [
       "<div>\n",
       "<style scoped>\n",
       "    .dataframe tbody tr th:only-of-type {\n",
       "        vertical-align: middle;\n",
       "    }\n",
       "\n",
       "    .dataframe tbody tr th {\n",
       "        vertical-align: top;\n",
       "    }\n",
       "\n",
       "    .dataframe thead th {\n",
       "        text-align: right;\n",
       "    }\n",
       "</style>\n",
       "<table border=\"1\" class=\"dataframe\">\n",
       "  <thead>\n",
       "    <tr style=\"text-align: right;\">\n",
       "      <th></th>\n",
       "      <th>Name</th>\n",
       "      <th>Domain Name</th>\n",
       "    </tr>\n",
       "  </thead>\n",
       "  <tbody>\n",
       "    <tr>\n",
       "      <th>0</th>\n",
       "      <td>Molly Martin</td>\n",
       "      <td>metacareers.com</td>\n",
       "    </tr>\n",
       "    <tr>\n",
       "      <th>1</th>\n",
       "      <td>Annette Erdozaincy</td>\n",
       "      <td>metacareers.com</td>\n",
       "    </tr>\n",
       "    <tr>\n",
       "      <th>2</th>\n",
       "      <td>Benjamin C.</td>\n",
       "      <td>metacareers.com</td>\n",
       "    </tr>\n",
       "    <tr>\n",
       "      <th>3</th>\n",
       "      <td>Kim Grounds</td>\n",
       "      <td>metacareers.com</td>\n",
       "    </tr>\n",
       "    <tr>\n",
       "      <th>4</th>\n",
       "      <td>Don Lee</td>\n",
       "      <td>metacareers.com</td>\n",
       "    </tr>\n",
       "  </tbody>\n",
       "</table>\n",
       "</div>"
      ],
      "text/plain": [
       "                 Name      Domain Name\n",
       "0        Molly Martin  metacareers.com\n",
       "1  Annette Erdozaincy  metacareers.com\n",
       "2         Benjamin C.  metacareers.com\n",
       "3         Kim Grounds  metacareers.com\n",
       "4             Don Lee  metacareers.com"
      ]
     },
     "execution_count": 9,
     "metadata": {},
     "output_type": "execute_result"
    }
   ],
   "source": [
    "# take only the first 3 columns of df (i don't want email from r3sourcing just to test)\n",
    "df = df[['Name', 'Domain Name']]\n",
    "df.head()"
   ]
  },
  {
   "cell_type": "code",
   "execution_count": 10,
   "metadata": {},
   "outputs": [],
   "source": [
    "# cleans our website link\n",
    "def getHostName(website):\n",
    "    tsd, td, tsu = extract(website)\n",
    "    url = td + '.' + tsu\n",
    "    return url"
   ]
  },
  {
   "cell_type": "code",
   "execution_count": 11,
   "metadata": {},
   "outputs": [
    {
     "data": {
      "text/html": [
       "<div>\n",
       "<style scoped>\n",
       "    .dataframe tbody tr th:only-of-type {\n",
       "        vertical-align: middle;\n",
       "    }\n",
       "\n",
       "    .dataframe tbody tr th {\n",
       "        vertical-align: top;\n",
       "    }\n",
       "\n",
       "    .dataframe thead th {\n",
       "        text-align: right;\n",
       "    }\n",
       "</style>\n",
       "<table border=\"1\" class=\"dataframe\">\n",
       "  <thead>\n",
       "    <tr style=\"text-align: right;\">\n",
       "      <th></th>\n",
       "      <th>Name</th>\n",
       "      <th>Domain Name</th>\n",
       "      <th>First Name</th>\n",
       "      <th>Last Name</th>\n",
       "    </tr>\n",
       "  </thead>\n",
       "  <tbody>\n",
       "    <tr>\n",
       "      <th>0</th>\n",
       "      <td>Molly Martin</td>\n",
       "      <td>metacareers.com</td>\n",
       "      <td>Molly</td>\n",
       "      <td>Martin</td>\n",
       "    </tr>\n",
       "    <tr>\n",
       "      <th>1</th>\n",
       "      <td>Annette Erdozaincy</td>\n",
       "      <td>metacareers.com</td>\n",
       "      <td>Annette</td>\n",
       "      <td>Erdozaincy</td>\n",
       "    </tr>\n",
       "    <tr>\n",
       "      <th>2</th>\n",
       "      <td>Benjamin C.</td>\n",
       "      <td>metacareers.com</td>\n",
       "      <td>Benjamin</td>\n",
       "      <td>C.</td>\n",
       "    </tr>\n",
       "    <tr>\n",
       "      <th>3</th>\n",
       "      <td>Kim Grounds</td>\n",
       "      <td>metacareers.com</td>\n",
       "      <td>Kim</td>\n",
       "      <td>Grounds</td>\n",
       "    </tr>\n",
       "    <tr>\n",
       "      <th>4</th>\n",
       "      <td>Don Lee</td>\n",
       "      <td>metacareers.com</td>\n",
       "      <td>Don</td>\n",
       "      <td>Lee</td>\n",
       "    </tr>\n",
       "  </tbody>\n",
       "</table>\n",
       "</div>"
      ],
      "text/plain": [
       "                 Name      Domain Name First Name   Last Name\n",
       "0        Molly Martin  metacareers.com      Molly      Martin\n",
       "1  Annette Erdozaincy  metacareers.com    Annette  Erdozaincy\n",
       "2         Benjamin C.  metacareers.com   Benjamin          C.\n",
       "3         Kim Grounds  metacareers.com        Kim     Grounds\n",
       "4             Don Lee  metacareers.com        Don         Lee"
      ]
     },
     "execution_count": 11,
     "metadata": {},
     "output_type": "execute_result"
    }
   ],
   "source": [
    "# splits full name of contact into first name and last name\n",
    "# fills in first name with full name if last name is not present or difficult to process\n",
    "# TODO(Chris): add logic for middle names: https://moonbooks.org/Articles/How-to-split-a-full-name-column-into-a-first-and-last-name-columns-with-pandas-in-python-/\n",
    "df[['First Name', 'Last Name']] = df['Name'].loc[df['Name'].str.split().str.len() == 2].str.split(expand=True)\n",
    "df['Domain Name'] = df['Domain Name'].apply(lambda x: getHostName(x))\n",
    "df['First Name'].fillna(df['Name'],inplace=True)\n",
    "df['First Name'].fillna(\"\",inplace=True)\n",
    "df['Last Name'].fillna(\"\",inplace=True)\n",
    "df.head()"
   ]
  },
  {
   "cell_type": "code",
   "execution_count": 12,
   "metadata": {},
   "outputs": [
    {
     "name": "stderr",
     "output_type": "stream",
     "text": [
      "<ipython-input-12-a6127b8e140f>:4: FutureWarning: The default value of regex will change from True to False in a future version. In addition, single character regular expressions will*not* be treated as literal strings when regex=True.\n",
      "  df['First Name'] = df['First Name'].str.replace('.','')\n",
      "<ipython-input-12-a6127b8e140f>:7: FutureWarning: The default value of regex will change from True to False in a future version. In addition, single character regular expressions will*not* be treated as literal strings when regex=True.\n",
      "  df['Last Name'] = df['Last Name'].str.replace('.','')\n"
     ]
    },
    {
     "data": {
      "text/html": [
       "<div>\n",
       "<style scoped>\n",
       "    .dataframe tbody tr th:only-of-type {\n",
       "        vertical-align: middle;\n",
       "    }\n",
       "\n",
       "    .dataframe tbody tr th {\n",
       "        vertical-align: top;\n",
       "    }\n",
       "\n",
       "    .dataframe thead th {\n",
       "        text-align: right;\n",
       "    }\n",
       "</style>\n",
       "<table border=\"1\" class=\"dataframe\">\n",
       "  <thead>\n",
       "    <tr style=\"text-align: right;\">\n",
       "      <th></th>\n",
       "      <th>Name</th>\n",
       "      <th>Domain Name</th>\n",
       "      <th>First Name</th>\n",
       "      <th>Last Name</th>\n",
       "    </tr>\n",
       "  </thead>\n",
       "  <tbody>\n",
       "    <tr>\n",
       "      <th>0</th>\n",
       "      <td>Molly Martin</td>\n",
       "      <td>metacareers.com</td>\n",
       "      <td>molly</td>\n",
       "      <td>martin</td>\n",
       "    </tr>\n",
       "    <tr>\n",
       "      <th>1</th>\n",
       "      <td>Annette Erdozaincy</td>\n",
       "      <td>metacareers.com</td>\n",
       "      <td>annette</td>\n",
       "      <td>erdozaincy</td>\n",
       "    </tr>\n",
       "    <tr>\n",
       "      <th>2</th>\n",
       "      <td>Benjamin C.</td>\n",
       "      <td>metacareers.com</td>\n",
       "      <td>benjamin</td>\n",
       "      <td>c</td>\n",
       "    </tr>\n",
       "    <tr>\n",
       "      <th>3</th>\n",
       "      <td>Kim Grounds</td>\n",
       "      <td>metacareers.com</td>\n",
       "      <td>kim</td>\n",
       "      <td>grounds</td>\n",
       "    </tr>\n",
       "    <tr>\n",
       "      <th>4</th>\n",
       "      <td>Don Lee</td>\n",
       "      <td>metacareers.com</td>\n",
       "      <td>don</td>\n",
       "      <td>lee</td>\n",
       "    </tr>\n",
       "  </tbody>\n",
       "</table>\n",
       "</div>"
      ],
      "text/plain": [
       "                 Name      Domain Name First Name   Last Name\n",
       "0        Molly Martin  metacareers.com      molly      martin\n",
       "1  Annette Erdozaincy  metacareers.com    annette  erdozaincy\n",
       "2         Benjamin C.  metacareers.com   benjamin           c\n",
       "3         Kim Grounds  metacareers.com        kim     grounds\n",
       "4             Don Lee  metacareers.com        don         lee"
      ]
     },
     "execution_count": 12,
     "metadata": {},
     "output_type": "execute_result"
    }
   ],
   "source": [
    "# clean our first name, last name. and company columns\n",
    "df['First Name'] = df['First Name'].str.strip()\n",
    "df['First Name'] = df['First Name'].str.lower()\n",
    "df['First Name'] = df['First Name'].str.replace('.','')\n",
    "df['Last Name'] = df['Last Name'].str.lower()\n",
    "df['Last Name'] = df['Last Name'].str.strip()\n",
    "df['Last Name'] = df['Last Name'].str.replace('.','')\n",
    "# df['Company Name'] = df['Company Name'].str.lower()\n",
    "# df['Company Name'] = df['Company Name'].str.replace(' ', '')\n",
    "\n",
    "# drop empty last name rows\n",
    "df = df[df['Last Name'] != '']\n",
    "#drop empty first name rows\n",
    "df = df[df['First Name'] != '']\n",
    "df.head()"
   ]
  },
  {
   "cell_type": "code",
   "execution_count": 15,
   "metadata": {},
   "outputs": [],
   "source": [
    "#test permuted emails package\n",
    "def nameToEmail(first_name, last_name, domain_name):\n",
    "\tlistOfPossibleEndings = ['.com', '.net', '.io'] # TODO(chris): map these out as well??\n",
    "\t# domain_name = company_name + '.com'\n",
    "\n",
    "\t# 3 of the most popular sequences:\n",
    "\t# {first}.{last}\n",
    "\t# {f}{last}\n",
    "\t# {first}{last}\n",
    "\tpermuted_emails = [\n",
    "\t\tfirst_name + '.' + last_name + '@' + domain_name,\n",
    "\t\tfirst_name + last_name + '@' + domain_name,\n",
    "\t\tfirst_name[0] + last_name + '@' + domain_name,\n",
    "\t]\n",
    "\n",
    "\t# join permuted_emails together into string separated by comma\n",
    "\tpermuted_emails = ','.join(permuted_emails)\n",
    "\treturn permuted_emails"
   ]
  },
  {
   "cell_type": "code",
   "execution_count": 16,
   "metadata": {},
   "outputs": [
    {
     "data": {
      "text/html": [
       "<div>\n",
       "<style scoped>\n",
       "    .dataframe tbody tr th:only-of-type {\n",
       "        vertical-align: middle;\n",
       "    }\n",
       "\n",
       "    .dataframe tbody tr th {\n",
       "        vertical-align: top;\n",
       "    }\n",
       "\n",
       "    .dataframe thead th {\n",
       "        text-align: right;\n",
       "    }\n",
       "</style>\n",
       "<table border=\"1\" class=\"dataframe\">\n",
       "  <thead>\n",
       "    <tr style=\"text-align: right;\">\n",
       "      <th></th>\n",
       "      <th>Name</th>\n",
       "      <th>Domain Name</th>\n",
       "      <th>First Name</th>\n",
       "      <th>Last Name</th>\n",
       "      <th>Email</th>\n",
       "    </tr>\n",
       "  </thead>\n",
       "  <tbody>\n",
       "    <tr>\n",
       "      <th>0</th>\n",
       "      <td>Molly Martin</td>\n",
       "      <td>metacareers.com</td>\n",
       "      <td>molly</td>\n",
       "      <td>martin</td>\n",
       "      <td>molly.martin@metacareers.com,mollymartin@metac...</td>\n",
       "    </tr>\n",
       "    <tr>\n",
       "      <th>1</th>\n",
       "      <td>Annette Erdozaincy</td>\n",
       "      <td>metacareers.com</td>\n",
       "      <td>annette</td>\n",
       "      <td>erdozaincy</td>\n",
       "      <td>annette.erdozaincy@metacareers.com,annetteerdo...</td>\n",
       "    </tr>\n",
       "    <tr>\n",
       "      <th>2</th>\n",
       "      <td>Benjamin C.</td>\n",
       "      <td>metacareers.com</td>\n",
       "      <td>benjamin</td>\n",
       "      <td>c</td>\n",
       "      <td>benjamin.c@metacareers.com,benjaminc@metacaree...</td>\n",
       "    </tr>\n",
       "    <tr>\n",
       "      <th>3</th>\n",
       "      <td>Kim Grounds</td>\n",
       "      <td>metacareers.com</td>\n",
       "      <td>kim</td>\n",
       "      <td>grounds</td>\n",
       "      <td>kim.grounds@metacareers.com,kimgrounds@metacar...</td>\n",
       "    </tr>\n",
       "    <tr>\n",
       "      <th>4</th>\n",
       "      <td>Don Lee</td>\n",
       "      <td>metacareers.com</td>\n",
       "      <td>don</td>\n",
       "      <td>lee</td>\n",
       "      <td>don.lee@metacareers.com,donlee@metacareers.com...</td>\n",
       "    </tr>\n",
       "  </tbody>\n",
       "</table>\n",
       "</div>"
      ],
      "text/plain": [
       "                 Name      Domain Name First Name   Last Name  \\\n",
       "0        Molly Martin  metacareers.com      molly      martin   \n",
       "1  Annette Erdozaincy  metacareers.com    annette  erdozaincy   \n",
       "2         Benjamin C.  metacareers.com   benjamin           c   \n",
       "3         Kim Grounds  metacareers.com        kim     grounds   \n",
       "4             Don Lee  metacareers.com        don         lee   \n",
       "\n",
       "                                               Email  \n",
       "0  molly.martin@metacareers.com,mollymartin@metac...  \n",
       "1  annette.erdozaincy@metacareers.com,annetteerdo...  \n",
       "2  benjamin.c@metacareers.com,benjaminc@metacaree...  \n",
       "3  kim.grounds@metacareers.com,kimgrounds@metacar...  \n",
       "4  don.lee@metacareers.com,donlee@metacareers.com...  "
      ]
     },
     "execution_count": 16,
     "metadata": {},
     "output_type": "execute_result"
    }
   ],
   "source": [
    "# map the nameToEmail function across the dataframe df\n",
    "for i in df.index:\n",
    "    df.loc[i, 'Email'] = nameToEmail(df.loc[i, 'First Name'], df.loc[i, 'Last Name'], df.loc[i, 'Domain Name'])\n",
    "df.head()"
   ]
  },
  {
   "cell_type": "code",
   "execution_count": 18,
   "metadata": {},
   "outputs": [],
   "source": [
    "df = df.set_index(['Name', 'Domain Name', 'First Name', 'Last Name']).apply(lambda x: x.str.split(',').explode()).reset_index()\n",
    "df.reset_index(drop=True, inplace=True)"
   ]
  },
  {
   "cell_type": "code",
   "execution_count": 19,
   "metadata": {},
   "outputs": [],
   "source": [
    "df.to_csv('out/permutedEmailsResult.csv')"
   ]
  },
  {
   "cell_type": "code",
   "execution_count": null,
   "metadata": {},
   "outputs": [],
   "source": []
  },
  {
   "cell_type": "code",
   "execution_count": null,
   "metadata": {},
   "outputs": [],
   "source": []
  }
 ],
 "metadata": {
  "kernelspec": {
   "display_name": "Python 3.8.8 ('base')",
   "language": "python",
   "name": "python3"
  },
  "language_info": {
   "codemirror_mode": {
    "name": "ipython",
    "version": 3
   },
   "file_extension": ".py",
   "mimetype": "text/x-python",
   "name": "python",
   "nbconvert_exporter": "python",
   "pygments_lexer": "ipython3",
   "version": "3.8.8"
  },
  "orig_nbformat": 4,
  "vscode": {
   "interpreter": {
    "hash": "3a08e08fd294ac885f4641f577411b70b09ed9f084debb702e8d86e4a0f75dfd"
   }
  }
 },
 "nbformat": 4,
 "nbformat_minor": 2
}
